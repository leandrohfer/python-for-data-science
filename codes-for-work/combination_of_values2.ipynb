{
 "cells": [
  {
   "cell_type": "code",
   "execution_count": null,
   "id": "713bf1e0",
   "metadata": {},
   "outputs": [],
   "source": [
    "from decimal import Decimal\n",
    "\n",
    "values_list = [\n",
    "    Decimal('404.45'),\n",
    "    Decimal('409.50'),\n",
    "    Decimal('460.00'),\n",
    "    Decimal('464.80'),\n",
    "    Decimal('477.29'),\n",
    "    Decimal('477.87'),\n",
    "    Decimal('482.70'),\n",
    "    Decimal('493.02'),\n",
    "    Decimal('514.14'),\n",
    "    Decimal('600.00')\n",
    "]\n",
    "target = Decimal('955.16')"
   ]
  },
  {
   "cell_type": "markdown",
   "id": "82eef717",
   "metadata": {},
   "source": [
    "## Estudando limitações do código"
   ]
  },
  {
   "cell_type": "code",
   "execution_count": null,
   "id": "2f82e7d2",
   "metadata": {},
   "outputs": [],
   "source": [
    "# Use integer cents DP to find up to 10 unique combinations summing to target.\n",
    "# Transformar os Decimals em inteiros (centavos) e usar Programação Dinâmica para achar os subconjuntos.\n",
    "\n",
    "# Reduzir o caminho para inteiros discretos, ideal para DP de soma\n",
    "# Multiplica por 100 para transformar real em centavos\n",
    "# .to_integral_value é um metodo de Decimal que retorna o inteiro mais próximo sem gerar erro\n",
    "values_cents = [int((v * 100).to_integral_value()) for v in values_list]\n",
    "target_cents = int((target * 100).to_integral_value())\n",
    "\n",
    "# Guarda para cada soma, a lista de indices\n",
    "# DP dict: soma -> (soma anterior, índice usado)\n",
    "dp = {0: []}\n",
    "\n",
    "found_solutions = []        # lista final de soluções únicas\n",
    "seen_combinations = set()   # para evitar repetições de ordenação\n",
    "\n",
    "# Enumera a lista de valores para poder armazenar na lista de somas\n",
    "for idx, val in enumerate(values_cents):\n",
    "\n",
    "    current_sums = list(dp.keys())\n",
    "\n",
    "    for s in current_sums:\n",
    "        new_s = s + val\n",
    "        if new_s > target_cents:\n",
    "            continue\n",
    "        if new_s not in dp:\n",
    "            dp[new_s] = (s, idx)\n",
    "            if new_s == target_cents:\n",
    "                # reconstruir solução (lista de índices)\n",
    "                sol = []\n",
    "                cur = new_s\n",
    "                while cur != 0:\n",
    "                    prev, used_idx = dp[cur]\n",
    "                    sol.append(used_idx)\n",
    "                    cur = prev\n",
    "                sol = list(reversed(sol))\n",
    "\n",
    "                # normalizar para evitar repetição (ordena índices)\n",
    "                sol_key = tuple(sorted(sol))\n",
    "                if sol_key not in seen_combinations:\n",
    "                    seen_combinations.add(sol_key)\n",
    "                    found_solutions.append(sol)\n",
    "\n",
    "                if len(found_solutions) >= 1:  # parar após uma solução\n",
    "                    break\n",
    "    if len(found_solutions) >= 1:\n",
    "        break\n",
    "\n",
    "print(f\"Total soluções únicas encontradas: {len(found_solutions)}\")\n",
    "for i, sol in enumerate(found_solutions, 1):\n",
    "    valores = [values_list[j] for j in sol]\n",
    "    print(f\"Solução {i}: índices {sol}, \\nvalores {valores}\")"
   ]
  }
 ],
 "metadata": {
  "kernelspec": {
   "display_name": "Python (study_env)",
   "language": "python",
   "name": "study_env"
  },
  "language_info": {
   "codemirror_mode": {
    "name": "ipython",
    "version": 3
   },
   "file_extension": ".py",
   "mimetype": "text/x-python",
   "name": "python",
   "nbconvert_exporter": "python",
   "pygments_lexer": "ipython3",
   "version": "3.12.0"
  }
 },
 "nbformat": 4,
 "nbformat_minor": 5
}
