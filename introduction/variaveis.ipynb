{
 "cells": [
  {
   "cell_type": "markdown",
   "id": "56f8d691",
   "metadata": {},
   "source": [
    "## Variáveis Numéricas"
   ]
  },
  {
   "cell_type": "code",
   "execution_count": 1,
   "id": "ded24013",
   "metadata": {},
   "outputs": [],
   "source": [
    "q_seguranca = 5\n",
    "s_seguranca = 3000\n",
    "\n",
    "q_docente = 16\n",
    "s_docente = 6000\n",
    "\n",
    "q_diretoria = 1\n",
    "s_diretoria = 12500"
   ]
  },
  {
   "cell_type": "code",
   "execution_count": 2,
   "id": "dcc874d2",
   "metadata": {},
   "outputs": [
    {
     "data": {
      "text/plain": [
       "22"
      ]
     },
     "execution_count": 2,
     "metadata": {},
     "output_type": "execute_result"
    }
   ],
   "source": [
    "total_empregados = q_seguranca + q_diretoria + q_docente\n",
    "total_empregados"
   ]
  },
  {
   "cell_type": "code",
   "execution_count": 3,
   "id": "a4c8cb9d",
   "metadata": {},
   "outputs": [
    {
     "data": {
      "text/plain": [
       "9500"
      ]
     },
     "execution_count": 3,
     "metadata": {},
     "output_type": "execute_result"
    }
   ],
   "source": [
    "diferenca_salario = s_diretoria - s_seguranca\n",
    "diferenca_salario"
   ]
  },
  {
   "cell_type": "code",
   "execution_count": 4,
   "id": "40054c9c",
   "metadata": {},
   "outputs": [
    {
     "data": {
      "text/plain": [
       "5613.636363636364"
      ]
     },
     "execution_count": 4,
     "metadata": {},
     "output_type": "execute_result"
    }
   ],
   "source": [
    "media_ponderada = (q_diretoria*s_diretoria + q_docente*s_docente + q_seguranca*s_seguranca) / total_empregados\n",
    "media_ponderada"
   ]
  },
  {
   "cell_type": "markdown",
   "id": "e56f2f42",
   "metadata": {},
   "source": [
    "## Variáveis de Texto"
   ]
  },
  {
   "cell_type": "code",
   "execution_count": 18,
   "id": "854b05c2",
   "metadata": {},
   "outputs": [],
   "source": [
    "texto = 'Leandro HenriqWe '"
   ]
  },
  {
   "cell_type": "code",
   "execution_count": 19,
   "id": "66c40a6c",
   "metadata": {},
   "outputs": [
    {
     "data": {
      "text/plain": [
       "'LEANDRO HENRIQWE '"
      ]
     },
     "execution_count": 19,
     "metadata": {},
     "output_type": "execute_result"
    }
   ],
   "source": [
    "texto.upper()"
   ]
  },
  {
   "cell_type": "code",
   "execution_count": 20,
   "id": "236ee49f",
   "metadata": {},
   "outputs": [
    {
     "data": {
      "text/plain": [
       "'leandro henriqwe '"
      ]
     },
     "execution_count": 20,
     "metadata": {},
     "output_type": "execute_result"
    }
   ],
   "source": [
    "texto.lower()"
   ]
  },
  {
   "cell_type": "code",
   "execution_count": 21,
   "id": "25ae456e",
   "metadata": {},
   "outputs": [
    {
     "data": {
      "text/plain": [
       "'Leandro HenriqWe'"
      ]
     },
     "execution_count": 21,
     "metadata": {},
     "output_type": "execute_result"
    }
   ],
   "source": [
    "# Remove espaços do inicio e do fim da string\n",
    "texto.strip()"
   ]
  },
  {
   "cell_type": "code",
   "execution_count": 22,
   "id": "846bf3a2",
   "metadata": {},
   "outputs": [
    {
     "data": {
      "text/plain": [
       "'Leandro Henrique '"
      ]
     },
     "execution_count": 22,
     "metadata": {},
     "output_type": "execute_result"
    }
   ],
   "source": [
    "texto.replace('W','u')"
   ]
  },
  {
   "cell_type": "code",
   "execution_count": 23,
   "id": "9cf53d19",
   "metadata": {},
   "outputs": [
    {
     "data": {
      "text/plain": [
       "'LEANDRO HENRIQUE'"
      ]
     },
     "execution_count": 23,
     "metadata": {},
     "output_type": "execute_result"
    }
   ],
   "source": [
    "texto.strip().replace('W','u').upper()"
   ]
  },
  {
   "cell_type": "markdown",
   "id": "58cf85b1",
   "metadata": {},
   "source": [
    "## Coletando Dados"
   ]
  },
  {
   "cell_type": "code",
   "execution_count": null,
   "id": "c3e55e14",
   "metadata": {},
   "outputs": [
    {
     "data": {
      "text/plain": [
       "''"
      ]
     },
     "execution_count": 26,
     "metadata": {},
     "output_type": "execute_result"
    }
   ],
   "source": [
    "nome = input('Insira seu nome: ')\n",
    "nome"
   ]
  },
  {
   "cell_type": "code",
   "execution_count": 29,
   "id": "f2ce01c3",
   "metadata": {},
   "outputs": [
    {
     "name": "stdout",
     "output_type": "stream",
     "text": [
      "23\n"
     ]
    },
    {
     "data": {
      "text/plain": [
       "int"
      ]
     },
     "execution_count": 29,
     "metadata": {},
     "output_type": "execute_result"
    }
   ],
   "source": [
    "idade = int(input('Insira sua idade: '))\n",
    "print(idade)\n",
    "type(idade)"
   ]
  },
  {
   "cell_type": "code",
   "execution_count": null,
   "id": "b42d9daa",
   "metadata": {},
   "outputs": [
    {
     "name": "stdout",
     "output_type": "stream",
     "text": [
      "Idade 23 anos\t e nota 25.0\n"
     ]
    }
   ],
   "source": [
    "nota = float(input('Insira sua nota: '))\n",
    "print(f'Idade {idade} anos e nota {nota}')"
   ]
  },
  {
   "cell_type": "markdown",
   "id": "ae998d04",
   "metadata": {},
   "source": [
    "## Exercicios"
   ]
  },
  {
   "cell_type": "markdown",
   "id": "1f21c47e",
   "metadata": {},
   "source": [
    "### Coleta e Amostragem de dados"
   ]
  },
  {
   "cell_type": "code",
   "execution_count": 33,
   "id": "0fd0413d",
   "metadata": {},
   "outputs": [
    {
     "name": "stdout",
     "output_type": "stream",
     "text": [
      "Olá, Leandro\n"
     ]
    }
   ],
   "source": [
    "print(f'Olá, {input('Digite seu nome: ')}')"
   ]
  },
  {
   "cell_type": "code",
   "execution_count": 34,
   "id": "dc608e3e",
   "metadata": {},
   "outputs": [
    {
     "name": "stdout",
     "output_type": "stream",
     "text": [
      "Olá, Leandro! Você tem 23 anos.\n"
     ]
    }
   ],
   "source": [
    "nome = input('Digite seu nome: ')\n",
    "print(f'Olá, {nome}! Você tem {int(input('Digite sua idade: '))} anos.')"
   ]
  },
  {
   "cell_type": "code",
   "execution_count": 35,
   "id": "33ff25ca",
   "metadata": {},
   "outputs": [
    {
     "name": "stdout",
     "output_type": "stream",
     "text": [
      "Olá, Leandro! Você tem 23 anos e mede 1.78 metros.\n"
     ]
    }
   ],
   "source": [
    "nome = input('Digite seu nome: ')\n",
    "idade = int(input('Digite sua idade: '))\n",
    "print(f'Olá, {nome}! Você tem {idade} anos e mede {float(input('Digite sua altura em metros: '))} metros.')"
   ]
  },
  {
   "cell_type": "markdown",
   "id": "42fbe1cf",
   "metadata": {},
   "source": [
    "### Calculadora com operadores"
   ]
  },
  {
   "cell_type": "code",
   "execution_count": 36,
   "id": "718bf930",
   "metadata": {},
   "outputs": [
    {
     "name": "stdout",
     "output_type": "stream",
     "text": [
      "15\n",
      "15\n",
      "-5\n",
      "10\n",
      "5.0\n",
      "8\n",
      "2\n",
      "5\n",
      "Média 6.866666666666667.\n",
      "Média 14.9.\n"
     ]
    }
   ],
   "source": [
    "a = int(input('Digite o primeiro valor: '))\n",
    "b = int(input('Digite o segundo valor: '))\n",
    "print(a+b)\n",
    "\n",
    "a = int(input('Digite o primeiro valor: '))\n",
    "b = int(input('Digite o segundo valor: '))\n",
    "c = int(input('Digite o terceiro valor: '))\n",
    "print(a+b+c)\n",
    "\n",
    "a = int(input('Digite o primeiro valor: '))\n",
    "b = int(input('Digite o segundo valor: '))\n",
    "print(a-b)\n",
    "\n",
    "a = int(input('Digite o primeiro valor: '))\n",
    "b = int(input('Digite o segundo valor: '))\n",
    "print(a*b)\n",
    "\n",
    "numerador = int(input('Digite o numerador: '))\n",
    "denominador = int(input('Digite o denominador (OBS: o valor não pode ser nulo): '))\n",
    "print(numerador/denominador)\n",
    "\n",
    "operador = int(input('Digite o operador valor: '))\n",
    "potencia = int(input('Digite a potência valor: '))\n",
    "print(operador**potencia)\n",
    "\n",
    "numerador = int(input('Digite o numerador: '))\n",
    "denominador = int(input('Digite o denominador (OBS: o valor não pode ser nulo): '))\n",
    "print(numerador//denominador)\n",
    "\n",
    "numerador = int(input('Digite o numerador: '))\n",
    "denominador = int(input('Digite o denominador (OBS: o valor não pode ser nulo): '))\n",
    "print(numerador%denominador)\n",
    "\n",
    "nota_1 = float(input('Digite a 1° nota: '))\n",
    "nota_2 = float(input('Digite a 2° nota: '))\n",
    "nota_3 = float(input('Digite a 3° nota: '))\n",
    "print(f'Média {(nota_1+nota_2+nota_3)/3}.')\n",
    "\n",
    "media_ponderada = (5*1 + 12*2 + 20*3 + 15*4) / (1+2+3+4)\n",
    "print(f'Média {media_ponderada}.')"
   ]
  },
  {
   "cell_type": "markdown",
   "id": "cb01ecf1",
   "metadata": {},
   "source": [
    "### Editando textos"
   ]
  },
  {
   "cell_type": "code",
   "execution_count": 37,
   "id": "ef42be21",
   "metadata": {},
   "outputs": [
    {
     "name": "stdout",
     "output_type": "stream",
     "text": [
      "Olá Python!\n",
      "Olá, mundo!\n",
      "LEANDRO HENRIQUE\n",
      "leandro henrique\n",
      "Olá Python!\n",
      "Leandro\n",
      "leandro\n",
      "figado fabricio\n",
      "le@ndro\n",
      "$a$ha\n"
     ]
    }
   ],
   "source": [
    "frase = 'Olá Python!'\n",
    "print(frase)\n",
    "\n",
    "frase = input('Digite uma frase: ')\n",
    "print(frase)\n",
    "\n",
    "frase = input('Digite uma frase: ')\n",
    "print(frase.upper())\n",
    "\n",
    "frase = input('Digite uma frase: ')\n",
    "print(frase.lower())\n",
    "\n",
    "frase = ' Olá Python!  '\n",
    "print(frase.strip())\n",
    "\n",
    "frase = input('Digite uma frase: ')\n",
    "print(frase.strip())\n",
    "\n",
    "frase = input('Digite uma frase: ')\n",
    "print(frase.strip().lower())\n",
    "\n",
    "frase = input('Digite uma frase: ')\n",
    "print(frase.lower().replace('e','f'))\n",
    "\n",
    "frase = input('Digite uma frase: ')\n",
    "print(frase.lower().replace('a',chr(64)))\n",
    "\n",
    "frase = input('Digite uma frase: ')\n",
    "print(frase.lower().replace('s',chr(36)))"
   ]
  }
 ],
 "metadata": {
  "kernelspec": {
   "display_name": "Python (study_env)",
   "language": "python",
   "name": "study_env"
  },
  "language_info": {
   "codemirror_mode": {
    "name": "ipython",
    "version": 3
   },
   "file_extension": ".py",
   "mimetype": "text/x-python",
   "name": "python",
   "nbconvert_exporter": "python",
   "pygments_lexer": "ipython3",
   "version": "3.12.0"
  }
 },
 "nbformat": 4,
 "nbformat_minor": 5
}
