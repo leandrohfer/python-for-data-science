{
 "cells": [
  {
   "cell_type": "markdown",
   "id": "357542b0",
   "metadata": {},
   "source": [
    "## Primeiro notebook em Python do curso"
   ]
  },
  {
   "cell_type": "code",
   "execution_count": 14,
   "id": "f1792410",
   "metadata": {},
   "outputs": [
    {
     "name": "stdout",
     "output_type": "stream",
     "text": [
      "Hello World!\n",
      "10\n",
      "Leandro 23\n"
     ]
    }
   ],
   "source": [
    "print('Hello World!')\n",
    "\n",
    "print(10)\n",
    "\n",
    "print('Leandro', 23)"
   ]
  },
  {
   "cell_type": "markdown",
   "id": "de7de9c1",
   "metadata": {},
   "source": [
    "## Exercícios introdutórios "
   ]
  },
  {
   "cell_type": "code",
   "execution_count": null,
   "id": "d15b5846",
   "metadata": {},
   "outputs": [
    {
     "name": "stdout",
     "output_type": "stream",
     "text": [
      "Nome: Leandro\n",
      "Sobrenome: Henrique\n",
      "L\n",
      "E\n",
      "A\n",
      "N\n",
      "D\n",
      "R\n",
      "O\n",
      "22 setembro 2025\n",
      "10\n"
     ]
    },
    {
     "data": {
      "text/plain": [
       "15"
      ]
     },
     "execution_count": 18,
     "metadata": {},
     "output_type": "execute_result"
    }
   ],
   "source": [
    "print('Nome: Leandro')\n",
    "\n",
    "print('Sobrenome: Henrique')\n",
    "\n",
    "print('L\\nE\\nA\\nN\\nD\\nR\\nO')\n",
    "\n",
    "print(22,'setembro',2025)\n",
    "\n",
    "# Python é case sensitive\n",
    "idade = 10\n",
    "Idade = 15\n",
    "print(idade)\n",
    "Idade"
   ]
  },
  {
   "cell_type": "code",
   "execution_count": 19,
   "id": "3283e73d",
   "metadata": {},
   "outputs": [
    {
     "data": {
      "text/plain": [
       "int"
      ]
     },
     "execution_count": 19,
     "metadata": {},
     "output_type": "execute_result"
    }
   ],
   "source": [
    "i = 5\n",
    "type(i)"
   ]
  },
  {
   "cell_type": "code",
   "execution_count": 20,
   "id": "7089f805",
   "metadata": {},
   "outputs": [
    {
     "data": {
      "text/plain": [
       "float"
      ]
     },
     "execution_count": 20,
     "metadata": {},
     "output_type": "execute_result"
    }
   ],
   "source": [
    "f = 9.8\n",
    "type(f)"
   ]
  },
  {
   "cell_type": "code",
   "execution_count": 21,
   "id": "8b8cc14c",
   "metadata": {},
   "outputs": [
    {
     "data": {
      "text/plain": [
       "str"
      ]
     },
     "execution_count": 21,
     "metadata": {},
     "output_type": "execute_result"
    }
   ],
   "source": [
    "s = 'Leandro'\n",
    "type(s)"
   ]
  },
  {
   "cell_type": "code",
   "execution_count": 22,
   "id": "ec493339",
   "metadata": {},
   "outputs": [
    {
     "data": {
      "text/plain": [
       "bool"
      ]
     },
     "execution_count": 22,
     "metadata": {},
     "output_type": "execute_result"
    }
   ],
   "source": [
    "b = True\n",
    "type(b)"
   ]
  }
 ],
 "metadata": {
  "kernelspec": {
   "display_name": "Python (study_env)",
   "language": "python",
   "name": "study_env"
  },
  "language_info": {
   "codemirror_mode": {
    "name": "ipython",
    "version": 3
   },
   "file_extension": ".py",
   "mimetype": "text/x-python",
   "name": "python",
   "nbconvert_exporter": "python",
   "pygments_lexer": "ipython3",
   "version": "3.12.0"
  }
 },
 "nbformat": 4,
 "nbformat_minor": 5
}
