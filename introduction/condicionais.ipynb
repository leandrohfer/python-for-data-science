{
 "cells": [
  {
   "cell_type": "markdown",
   "id": "b0219e8d",
   "metadata": {},
   "source": [
    "## If e Else"
   ]
  },
  {
   "cell_type": "code",
   "execution_count": 1,
   "id": "2fb50820",
   "metadata": {},
   "outputs": [
    {
     "name": "stdout",
     "output_type": "stream",
     "text": [
      "condição verdadeira\n",
      "fora do bloco\n"
     ]
    }
   ],
   "source": [
    "if 2<7:\n",
    "    print('condição verdadeira')\n",
    "print('fora do bloco')"
   ]
  },
  {
   "cell_type": "code",
   "execution_count": 2,
   "id": "10b18075",
   "metadata": {},
   "outputs": [
    {
     "name": "stdout",
     "output_type": "stream",
     "text": [
      "Recuperação\n"
     ]
    }
   ],
   "source": [
    "media = float(input('Digite a média: '))\n",
    "\n",
    "if media >= 6.0:\n",
    "    print('Aprovado')\n",
    "if 6.0 > media >= 4.0:\n",
    "    print('Recuperação')\n",
    "if media < 4.0:\n",
    "    print('Reprovado')"
   ]
  },
  {
   "cell_type": "code",
   "execution_count": 3,
   "id": "f2bdd301",
   "metadata": {},
   "outputs": [
    {
     "name": "stdout",
     "output_type": "stream",
     "text": [
      "Aprovado\n"
     ]
    }
   ],
   "source": [
    "media = float(input('Digite a média: '))\n",
    "\n",
    "if media >= 6.0:\n",
    "    print('Aprovado')\n",
    "elif 6.0 > media >= 4.0:\n",
    "    print('Recuperação')\n",
    "else:\n",
    "    print('Reprovado')"
   ]
  },
  {
   "cell_type": "markdown",
   "id": "f2024388",
   "metadata": {},
   "source": [
    "## Operadores"
   ]
  },
  {
   "cell_type": "code",
   "execution_count": 4,
   "id": "c5d8e756",
   "metadata": {},
   "outputs": [],
   "source": [
    "t1 = t2 = True\n",
    "f1 = f2 = False"
   ]
  },
  {
   "cell_type": "code",
   "execution_count": 5,
   "id": "ceadc47c",
   "metadata": {},
   "outputs": [
    {
     "name": "stdout",
     "output_type": "stream",
     "text": [
      "expressão verdadeira\n"
     ]
    }
   ],
   "source": [
    "if t1 and t2:\n",
    "  print('expressão verdadeira')\n",
    "else:\n",
    "  print('expressão falsa')"
   ]
  },
  {
   "cell_type": "code",
   "execution_count": 6,
   "id": "ac1d0515",
   "metadata": {},
   "outputs": [
    {
     "name": "stdout",
     "output_type": "stream",
     "text": [
      "expressão verdadeira\n"
     ]
    }
   ],
   "source": [
    "if t1 or f1:\n",
    "  print('expressão verdadeira')\n",
    "else:\n",
    "  print('expressão falsa')"
   ]
  },
  {
   "cell_type": "code",
   "execution_count": 7,
   "id": "56f487e4",
   "metadata": {},
   "outputs": [
    {
     "name": "stdout",
     "output_type": "stream",
     "text": [
      "expressão falsa\n"
     ]
    }
   ],
   "source": [
    "if not t1:\n",
    "  print('expressão verdadeira')\n",
    "else:\n",
    "  print('expressão falsa')"
   ]
  },
  {
   "cell_type": "code",
   "execution_count": 8,
   "id": "8c16d83d",
   "metadata": {},
   "outputs": [
    {
     "data": {
      "text/plain": [
       "'José da Silva, Maria Oliveira, Pedro Martins, Ana Souza, Carlos Rodrigues, Juliana Santos, Bruno Gomes, Beatriz Costa, Felipe Almeida, Mariana Fernandes, João Pinto, Luísa Nascimento, Gabriel Souza, Manuela Santos, Thiago Oliveira, Sofia Ferreira, Rafael Albuquerque, Isabella Gomes, Bruno Costa, Maria Martins, Rafaela Souza, Matheus Fernandes, Luísa Almeida, Beatriz Pinto, Mariana Rodrigues, Gabriel Nascimento, João Ferreira, Maria Albuquerque, Felipe Oliveira'"
      ]
     },
     "execution_count": 8,
     "metadata": {},
     "output_type": "execute_result"
    }
   ],
   "source": [
    "lista = 'José da Silva, Maria Oliveira, Pedro Martins, Ana Souza, Carlos Rodrigues, Juliana Santos, Bruno Gomes, Beatriz Costa, Felipe Almeida, Mariana Fernandes, João Pinto, Luísa Nascimento, Gabriel Souza, Manuela Santos, Thiago Oliveira, Sofia Ferreira, Rafael Albuquerque, Isabella Gomes, Bruno Costa, Maria Martins, Rafaela Souza, Matheus Fernandes, Luísa Almeida, Beatriz Pinto, Mariana Rodrigues, Gabriel Nascimento, João Ferreira, Maria Albuquerque, Felipe Oliveira'\n",
    "lista"
   ]
  },
  {
   "cell_type": "code",
   "execution_count": 9,
   "id": "a31a5ec8",
   "metadata": {},
   "outputs": [],
   "source": [
    "nome_1 = 'Mariana Rodrigues'\n",
    "nome_2 = 'Marcelo Nogueira'"
   ]
  },
  {
   "cell_type": "code",
   "execution_count": 10,
   "id": "f386f3db",
   "metadata": {},
   "outputs": [
    {
     "name": "stdout",
     "output_type": "stream",
     "text": [
      "Mariana Rodrigues está na lista\n"
     ]
    }
   ],
   "source": [
    "if nome_1 in lista:\n",
    "  print(f'{nome_1} está na lista')\n",
    "else:\n",
    "  print(f'{nome_1} não está na lista')"
   ]
  },
  {
   "cell_type": "code",
   "execution_count": 11,
   "id": "145223bf",
   "metadata": {},
   "outputs": [
    {
     "name": "stdout",
     "output_type": "stream",
     "text": [
      "Marcelo Nogueira não está na lista\n"
     ]
    }
   ],
   "source": [
    "if nome_2 in lista:\n",
    "  print(f'{nome_2} está na lista')\n",
    "else:\n",
    "  print(f'{nome_2} não está na lista')"
   ]
  },
  {
   "cell_type": "markdown",
   "id": "4580aacd",
   "metadata": {},
   "source": [
    "## Exercícios"
   ]
  },
  {
   "cell_type": "code",
   "execution_count": null,
   "id": "8c0da84a",
   "metadata": {},
   "outputs": [
    {
     "name": "stdout",
     "output_type": "stream",
     "text": [
      "Os números são iguais.\n"
     ]
    }
   ],
   "source": [
    "# 1) Escreva um programa que peça à pessoa usuária para fornecer dois números e exibir o número maior.\n",
    "\n",
    "numero1 = float(input('Insira o primeiro número: '))\n",
    "numero2 = float(input('Insira o segundo número: '))\n",
    "\n",
    "if numero1 > numero2:\n",
    "    print(f'O número {numero1} é maior que o número {numero2}')\n",
    "elif numero2 > numero1:\n",
    "    print(f'O número {numero2} é maior que o número {numero1}')\n",
    "else:\n",
    "    print(f'Os números são iguais.')"
   ]
  },
  {
   "cell_type": "code",
   "execution_count": 14,
   "id": "5f72e731",
   "metadata": {},
   "outputs": [
    {
     "name": "stdout",
     "output_type": "stream",
     "text": [
      "Houve um crescimento de 50.0%\n"
     ]
    }
   ],
   "source": [
    "# 2) Escreva um programa que solicite o percentual de crescimento de produção de uma empresa e informe se houve um crescimento \n",
    "# (porcentagem positiva) ou decrescimento (porcentagem negativa).\n",
    "\n",
    "variacao = float(input('Digite o percentual de crescimento: '))\n",
    "\n",
    "if variacao > 0:\n",
    "    print(f'Houve um crescimento de {variacao}%')\n",
    "elif variacao < 0:\n",
    "    print(f'Houve um decrescimento de {variacao}%')\n",
    "else:\n",
    "    print('Não houve crescimento ou decrescimento.')"
   ]
  },
  {
   "cell_type": "code",
   "execution_count": 16,
   "id": "5a0a8cd9",
   "metadata": {},
   "outputs": [
    {
     "name": "stdout",
     "output_type": "stream",
     "text": [
      "A letra é uma vogal.\n"
     ]
    }
   ],
   "source": [
    "# 3) Escreva um programa que determine se uma letra fornecida pela pessoa usuária é uma vogal ou consoante.\n",
    "\n",
    "letra = input('Digite uma letra: ').lower()\n",
    "vogais = 'aeiou'\n",
    "\n",
    "if letra in vogais:\n",
    "    print('A letra é uma vogal.')\n",
    "else:\n",
    "    print('A letra é uma consoante.')"
   ]
  },
  {
   "cell_type": "code",
   "execution_count": 17,
   "id": "8957bd7a",
   "metadata": {},
   "outputs": [
    {
     "name": "stdout",
     "output_type": "stream",
     "text": [
      "O preço mais alto foi de R$ 120.0.\n",
      "O preço mais baixo foi de R$ 50.0.\n"
     ]
    }
   ],
   "source": [
    "# 4) Escreva um programa que leia valores médios de preços de um modelo de carro por 3 anos consecutivos e exiba o valor mais alto e \n",
    "# mais baixo entre esses três anos.\n",
    "\n",
    "preco_ano1 = float(input('Informe o preço médio do carro no primeiro ano: '))\n",
    "preco_ano2 = float(input('Informe o preço médio do carro no segundo ano: '))\n",
    "preco_ano3 = float(input('Informe o preço médio do carro no terceiro ano: '))\n",
    "\n",
    "maior = preco_ano1\n",
    "if preco_ano2 > maior:\n",
    "  maior = preco_ano2\n",
    "if preco_ano3 > maior:\n",
    "  maior = preco_ano3\n",
    "\n",
    "menor = preco_ano1\n",
    "if preco_ano2 < menor:\n",
    "  menor = preco_ano2\n",
    "if preco_ano3 < menor:\n",
    "  menor = preco_ano3\n",
    "\n",
    "print(f'O preço mais alto foi de R$ {maior}.')\n",
    "print(f'O preço mais baixo foi de R$ {menor}.')"
   ]
  },
  {
   "cell_type": "code",
   "execution_count": 20,
   "id": "3aa20cd1",
   "metadata": {},
   "outputs": [
    {
     "name": "stdout",
     "output_type": "stream",
     "text": [
      "O primeiro e o segundo produtos são os mais baratos.\n"
     ]
    }
   ],
   "source": [
    "# 5) Escreva um programa que pergunte sobre o preço de três produtos e indique qual é o produto mais barato para comprar.\n",
    "\n",
    "p1 = float(input('Digite o preço do primeiro produto: '))\n",
    "p2 = float(input('Digite o preço do segundo produto: '))\n",
    "p3 = float(input('Digite o preço do terceiro produto: '))\n",
    "\n",
    "if p1 < p2 and p1 < p3:\n",
    "    print('O primeiro produto é o mais barato.')\n",
    "elif p2 < p1 and p2 < p3:\n",
    "    print('O segundo produto é o mais barato.')\n",
    "elif p3 < p1 and p3 < p2:\n",
    "    print('O terceiro produto é o mais barato.')\n",
    "elif p1 == p2 == p3:\n",
    "    print('Os produtos possuem o mesmo preço.')\n",
    "else:\n",
    "    if p1 == p2:\n",
    "        print('O primeiro e o segundo produtos são os mais baratos.')\n",
    "    elif p2 == p3:\n",
    "        print('O segundo e terceiro produtos são os mais baratos.')\n",
    "    elif p1 == p3:\n",
    "        print('O primeiro e o terceiro produtos são os mais baratos.')"
   ]
  },
  {
   "cell_type": "code",
   "execution_count": 21,
   "id": "92a7c548",
   "metadata": {},
   "outputs": [
    {
     "name": "stdout",
     "output_type": "stream",
     "text": [
      "6\n",
      "5\n",
      "1\n"
     ]
    }
   ],
   "source": [
    "# 6) Escreva um programa que leia três números e os exiba em ordem decrescente.\n",
    "\n",
    "num1 = int(input('Informe o primeiro número: '))\n",
    "num2 = int(input('Informe o segundo número: '))\n",
    "num3 = int(input('Informe o terceiro número: '))\n",
    "\n",
    "if (num1 >= num2) and (num1 >= num3):\n",
    "    print(num1)\n",
    "    if num2 >= num3:\n",
    "        print(num2)\n",
    "        print(num3)\n",
    "    else:\n",
    "        print(num3)\n",
    "        print(num2)\n",
    "elif (num2 >= num1) and (num2 >= num3):\n",
    "    print(num2)\n",
    "    if num1 >= num3:\n",
    "        print(num1)\n",
    "        print(num3)\n",
    "    else:\n",
    "        print(num3)\n",
    "        print(num1)\n",
    "else:\n",
    "    print(num3)\n",
    "    if num1 >= num2:\n",
    "        print(num1)\n",
    "        print(num2)\n",
    "    else:\n",
    "        print(num2)\n",
    "        print(num1)"
   ]
  },
  {
   "cell_type": "code",
   "execution_count": 22,
   "id": "3cbfd567",
   "metadata": {},
   "outputs": [
    {
     "name": "stdout",
     "output_type": "stream",
     "text": [
      "Boa Tarde!\n"
     ]
    }
   ],
   "source": [
    "# 7) Escreva um programa que pergunte em qual turno a pessoa usuária estuda (\"manhã\", \"tarde\" ou \"noite\") e exiba a mensagem \n",
    "# \"Bom Dia!\", \"Boa Tarde!\", \"Boa Noite!\", ou \"Valor Inválido!\", conforme o caso.\n",
    "\n",
    "turno = input('Digite em qual turno você estuda (manhã, tarde ou noite): ')\n",
    "\n",
    "if turno == 'manhã':\n",
    "  print('Bom Dia!')\n",
    "elif turno == 'tarde':\n",
    "  print('Boa Tarde!')\n",
    "elif turno == 'noite':\n",
    "  print('Boa Noite!')\n",
    "else:\n",
    "  print('Valor Inválido!')"
   ]
  },
  {
   "cell_type": "code",
   "execution_count": 23,
   "id": "819b3be4",
   "metadata": {},
   "outputs": [
    {
     "name": "stdout",
     "output_type": "stream",
     "text": [
      "O número é ímpar.\n"
     ]
    }
   ],
   "source": [
    "# 8) Escreva um programa que peça um número inteiro à pessoa usuária e determine se ele é par ou ímpar. Dica: Você pode utilizar o operador módulo %.\n",
    "\n",
    "num = int(input('Digite um número: '))\n",
    "\n",
    "if num % 2 == 0:\n",
    "    print('O número é par.')\n",
    "else:\n",
    "    print('O número é ímpar.')"
   ]
  },
  {
   "cell_type": "code",
   "execution_count": 24,
   "id": "6ff57d87",
   "metadata": {},
   "outputs": [
    {
     "name": "stdout",
     "output_type": "stream",
     "text": [
      "O número é decimal.\n"
     ]
    }
   ],
   "source": [
    "# 9) Escreva um programa que peça um número à pessoa usuária e informe se ele é inteiro ou decimal.\n",
    "\n",
    "num = float(input('Digite um número: '))\n",
    "\n",
    "if num % 1 == 0:\n",
    "    print('O número é inteiro.')\n",
    "else:\n",
    "    print('O número é decimal.')"
   ]
  },
  {
   "cell_type": "code",
   "execution_count": 25,
   "id": "980f77e0",
   "metadata": {},
   "outputs": [
    {
     "name": "stdout",
     "output_type": "stream",
     "text": [
      "O resultado é inteiro.\n",
      "O resultado é positivo.\n",
      "O resultado é par.\n"
     ]
    }
   ],
   "source": [
    "# 10) Um programa deve ser escrito para ler dois números e, em seguida, perguntar à pessoa usuária qual operação ele deseja realizar.\n",
    "#  O resultado da operação deve incluir informações sobre o número - se é par ou ímpar, positivo ou negativo e inteiro ou decimal.\n",
    "\n",
    "num1 = float(input('Informe o primeiro número: '))\n",
    "num2 = float(input('Informe o segundo número: '))\n",
    "operacao = input('Informe a operação desejada (+, -, *, /): ')\n",
    "\n",
    "if operacao == '+':\n",
    "    resultado = num1 + num2\n",
    "elif operacao == '-':\n",
    "    resultado = num1 - num2\n",
    "elif operacao == '*':\n",
    "    resultado = num1 * num2\n",
    "elif operacao == '/':\n",
    "    resultado = num1 / num2\n",
    "else:\n",
    "    print('Operação inválida, resultado da operação será 0')\n",
    "    resultado = 0 \n",
    "\n",
    "if resultado % 1 == 0:\n",
    "    print('O resultado é inteiro.')\n",
    "else:\n",
    "    print('O resultado é decimal.')\n",
    "\n",
    "if resultado > 0:\n",
    "    print('O resultado é positivo.')\n",
    "elif resultado == 0:\n",
    "    print('O resultado é neutro.')\n",
    "else:\n",
    "    print('O resultado é negativo.')\n",
    "\n",
    "if resultado % 2 == 0:\n",
    "    print('O resultado é par.')\n",
    "else:\n",
    "    print('O resultado é ímpar.')"
   ]
  },
  {
   "cell_type": "code",
   "execution_count": 27,
   "id": "74aa8c7a",
   "metadata": {},
   "outputs": [
    {
     "name": "stdout",
     "output_type": "stream",
     "text": [
      "Os valores não podem formar um triângulo!\n"
     ]
    }
   ],
   "source": [
    "# 11) Escreva um programa que peça à pessoa usuária três números que representam os lados de um triângulo. O programa deve informar se os valores podem ser utilizados para formar um triângulo e, caso afirmativo, se ele é equilátero, isósceles ou escaleno. Tenha em mente algumas dicas:\n",
    "\n",
    "# Três lados formam um triângulo quando a soma de quaisquer dois lados for maior que o terceiro;\n",
    "# Triângulo Equilátero: três lados iguais;\n",
    "# Triângulo Isósceles: quaisquer dois lados iguais;\n",
    "# Triângulo Escaleno: três lados diferentes.\n",
    "\n",
    "lado1 = float(input('Digite o comprimento do primeiro lado: '))\n",
    "lado2 = float(input('Digite o comprimento do segundo lado: '))\n",
    "lado3 = float(input('Digite o comprimento do terceiro lado: '))\n",
    "\n",
    "if (lado1 + lado2 > lado3) and (lado2 + lado3 > lado1) and (lado1 + lado3 > lado2):\n",
    "    print('Os valores podem formar um triângulo!')\n",
    "\n",
    "    if (lado1 == lado2) and (lado2 == lado3):\n",
    "        print('O triângulo é equilátero.')\n",
    "    elif (lado1 != lado2) and (lado2 != lado3) and (lado1 != lado3):\n",
    "        print('O triângulo é escaleno.')\n",
    "    else:\n",
    "        print('O triângulo é isósceles.')\n",
    "else:\n",
    "    print('Os valores não podem formar um triângulo!')"
   ]
  },
  {
   "cell_type": "code",
   "execution_count": 28,
   "id": "2f5ba1c4",
   "metadata": {},
   "outputs": [
    {
     "name": "stdout",
     "output_type": "stream",
     "text": [
      "Valor a ser pago pelo cliente: R$ 32.3\n"
     ]
    }
   ],
   "source": [
    "# 12) Um estabelecimento está vendendo combustíveis com descontos variados. Para o etanol, se a quantidade comprada for até 15 litros, \n",
    "# o desconto será de 2% por litro. Caso contrário, será de 4% por litro. Para o diesel, se a quantidade comprada for até 15 litros, o \n",
    "# desconto será de 3% por litro. Caso contrário, será de 5% por litro. O preço do litro de diesel é R$ 2,00 e o preço do litro de etanol \n",
    "# é R$ 1,70. Escreva um programa que leia a quantidade de litros vendidos e o tipo de combustível (E para etanol e D para diesel) e calcule \n",
    "# o valor a ser pago pelo cliente. Tenha em mente algumas dicas:\n",
    "\n",
    "# O do valor do desconto será a multiplicação entre preço do litro, quantidade de litros e o valor do desconto.\n",
    "# O valor a ser pago por um cliente será o resultado da multiplicação do preço do litro pela quantidade de litros menos o valor de desconto \n",
    "# resultante do cálculo.\n",
    "\n",
    "quantidade_litros = float(input('Informe a quantidade de litros vendidos: '))\n",
    "tipo_combustivel = input('Informe o tipo de combustível (E para etanol e D para diesel): ').upper()\n",
    "\n",
    "if tipo_combustivel == 'E':\n",
    "  preco_litro = 1.70\n",
    "  \n",
    "  if quantidade_litros <= 15:\n",
    "    desconto = 0.02\n",
    "  else:\n",
    "    desconto = 0.04\n",
    "elif tipo_combustivel == 'D':\n",
    "  preco_litro = 2.00\n",
    "\n",
    "  if quantidade_litros <= 15:\n",
    "    desconto = 0.03\n",
    "  else:\n",
    "    desconto = 0.05\n",
    "else:\n",
    "    print('Entradas inválidas!')\n",
    "    preco_litro = 0\n",
    "    desconto = 0\n",
    "\n",
    "valor_desconto = preco_litro * quantidade_litros * desconto\n",
    "valor_pago = preco_litro * quantidade_litros - valor_desconto\n",
    "\n",
    "print(f'Valor a ser pago pelo cliente: R$ {valor_pago}')"
   ]
  },
  {
   "cell_type": "code",
   "execution_count": 29,
   "id": "6b02589d",
   "metadata": {},
   "outputs": [
    {
     "name": "stdout",
     "output_type": "stream",
     "text": [
      "Pequena bonificação para time de vendas.\n"
     ]
    }
   ],
   "source": [
    "# 13) Em uma empresa de venda de imóveis você precisa criar um código que analise os dados de vendas anuais para ajudar a diretoria na \n",
    "# tomada de decisão. O código precisa coletar os dados de quantidade de venda durante os anos de 2022 e 2023 e fazer um cálculo de variação \n",
    "# percentual. A partir do valor da variação, deve ser enviada às seguintes sugestões:\n",
    "\n",
    "# Para variação acima de 20%: bonificação para o time de vendas.\n",
    "# Para variação entre 2% e 20%: pequena bonificação para time de vendas.\n",
    "# Para variação entre 2% e -10%: planejamento de políticas de incentivo às vendas.\n",
    "# Para bonificações abaixo de -10%: corte de gastos.\n",
    "\n",
    "venda_2022 = float(input('Informe a quantidade de vendas em 2022: '))\n",
    "venda_2023 = float(input('Informe a quantidade de vendas em 2023: '))\n",
    "\n",
    "var_percentual = 100 * (venda_2023 - venda_2022) / (venda_2022)\n",
    "\n",
    "if var_percentual > 20:\n",
    "    print('Bonificação para o time de vendas.')\n",
    "elif 2 <= var_percentual <= 20:\n",
    "    print('Pequena bonificação para time de vendas.')\n",
    "elif -10 <= var_percentual < 2:\n",
    "    print('Planejamento de políticas de incentivo às vendas.')\n",
    "else:\n",
    "    print('Corte de gastos.')"
   ]
  }
 ],
 "metadata": {
  "kernelspec": {
   "display_name": "Python (study_env)",
   "language": "python",
   "name": "study_env"
  },
  "language_info": {
   "codemirror_mode": {
    "name": "ipython",
    "version": 3
   },
   "file_extension": ".py",
   "mimetype": "text/x-python",
   "name": "python",
   "nbconvert_exporter": "python",
   "pygments_lexer": "ipython3",
   "version": "3.12.0"
  }
 },
 "nbformat": 4,
 "nbformat_minor": 5
}
