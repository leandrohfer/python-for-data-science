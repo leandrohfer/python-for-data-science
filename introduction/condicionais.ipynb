{
 "cells": [
  {
   "cell_type": "markdown",
   "id": "b0219e8d",
   "metadata": {},
   "source": [
    "## If e Else"
   ]
  },
  {
   "cell_type": "code",
   "execution_count": null,
   "id": "2fb50820",
   "metadata": {},
   "outputs": [
    {
     "name": "stdout",
     "output_type": "stream",
     "text": [
      "condição verdadeira\n"
     ]
    }
   ],
   "source": [
    "if 2<7:\n",
    "    print('condição verdadeira')\n",
    "print('fora do bloco')"
   ]
  },
  {
   "cell_type": "code",
   "execution_count": null,
   "id": "10b18075",
   "metadata": {},
   "outputs": [],
   "source": [
    "media = float(input('Digite a média: '))\n",
    "\n",
    "if media >= 6.0:\n",
    "    print('Aprovado')\n",
    "if 6.0 > media >= 4.0:\n",
    "    print('Recuperação')\n",
    "if media < 4.0:\n",
    "    print('Reprovado')"
   ]
  },
  {
   "cell_type": "code",
   "execution_count": null,
   "id": "f2bdd301",
   "metadata": {},
   "outputs": [],
   "source": [
    "media = float(input('Digite a média: '))\n",
    "\n",
    "if media >= 6.0:\n",
    "    print('Aprovado')\n",
    "elif 6.0 > media >= 4.0:\n",
    "    print('Recuperação')\n",
    "else:\n",
    "    print('Reprovado')"
   ]
  }
 ],
 "metadata": {
  "kernelspec": {
   "display_name": "Python (study_env)",
   "language": "python",
   "name": "study_env"
  },
  "language_info": {
   "codemirror_mode": {
    "name": "ipython",
    "version": 3
   },
   "file_extension": ".py",
   "mimetype": "text/x-python",
   "name": "python",
   "nbconvert_exporter": "python",
   "pygments_lexer": "ipython3",
   "version": "3.12.0"
  }
 },
 "nbformat": 4,
 "nbformat_minor": 5
}
